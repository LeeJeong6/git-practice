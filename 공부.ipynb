{
 "cells": [
  {
   "cell_type": "markdown",
   "metadata": {},
   "source": [
    "문제1\n",
    "\n",
    "그룹 단어란 단어에 존재하는 모든 문자에 대해서, 각 문자가 연속해서 나타나는 경우만을 말한다. 예를 들면, ccazzzzbb는 c, a, z, b가 모두 연속해서 나타나고, kin도 k, i, n이 연속해서 나타나기 때문에 그룹 단어이지만, aabbbccb는 b가 떨어져서 나타나기 때문에 그룹 단어가 아니다.\n",
    "\n",
    "단어 N개를 입력으로 받아 그룹 단어의 개수를 출력하는 프로그램을 작성하시오.\n",
    "\n",
    "입력\n",
    "\n",
    "첫째 줄에 단어의 개수 N이 들어온다. N은 100보다 작거나 같은 자연수이다. 둘째 줄부터 N개의 줄에 단어가 들어온다. 단어는 알파벳 소문자로만 되어있고 중복되지 않으며, 길이는 최대 100이다.\n",
    "\n",
    "출력\n",
    "\n",
    "첫째 줄에 그룹 단어의 개수를 출력한다."
   ]
  },
  {
   "cell_type": "code",
   "execution_count": null,
   "metadata": {},
   "outputs": [
    {
     "name": "stdout",
     "output_type": "stream",
     "text": [
      "1\n"
     ]
    }
   ],
   "source": [
    "def check_group(word):\n",
    "    범인=0\n",
    "\n",
    "    for i in range(len(word)):\n",
    "\n",
    "        기준 = word[i]  \n",
    "    \n",
    "        if word.count(기준)==1:\n",
    "\n",
    "            continue \n",
    "\n",
    "        else : \n",
    "       \n",
    "            num = word[i+1:].count(기준) \n",
    "            if word[i+1:].find(기준*num)!=0:\n",
    "                범인+=1\n",
    "                break \n",
    "\n",
    "    return 범인\n",
    "\n",
    "N = int(input()) #단어 개수\n",
    "for i in range(N):\n",
    "    word = input()\n",
    "    N-=check_group(word)\n",
    "\n",
    "print(N)\n",
    "\n"
   ]
  },
  {
   "cell_type": "markdown",
   "metadata": {},
   "source": [
    "문제2\n",
    "인하대학교 컴퓨터공학과를 졸업하기 위해서는, 전공평점이 3.3 이상이거나 졸업고사를 통과해야 한다. 그런데 아뿔싸, 치훈이는 깜빡하고 졸업고사를 응시하지 않았다는 사실을 깨달았다!\n",
    "\n",
    "치훈이의 전공평점을 계산해주는 프로그램을 작성해보자.\n",
    "\n",
    "전공평점은 전공과목별 (학점 × 과목평점)의 합을 학점의 총합으로 나눈 값이다.\n",
    "\n",
    "인하대학교 컴퓨터공학과의 등급에 따른 과목평점은 다음 표와 같다.\n",
    "\n",
    "A+\t4.5\n",
    "A0\t4.0\n",
    "B+\t3.5\n",
    "B0\t3.0\n",
    "C+\t2.5\n",
    "C0\t2.0\n",
    "D+\t1.5\n",
    "D0\t1.0\n",
    "F\t0.0\n",
    "P/F 과목의 경우 등급이 P또는 F로 표시되는데, 등급이 P인 과목은 계산에서 제외해야 한다.\n",
    "\n",
    "과연 치훈이는 무사히 졸업할 수 있을까?\n",
    "\n",
    "출력\n",
    "치훈이의 전공평점을 출력한다.\n",
    "\n",
    "정답과의 절대오차 또는 상대오차가 10^-4이하이면 정답으로 인정한다.\n",
    "\n",
    "제한\n",
    "1 ≤ 과목명의 길이 ≤ 50\n",
    "과목명은 알파벳 대소문자 또는 숫자로만 이루어져 있으며, 띄어쓰기 없이 주어진다. 입력으로 주어지는 모든 과목명은 서로 다르다.\n",
    "학점은 1.0,2.0,3.0,4.0중 하나이다.\n",
    "등급은 A+,A0,B+,B0,C+,C0,D+,D0,F,P중 하나이다.\n",
    "적어도 한 과목은 등급이 P가 아님이 보장된다."
   ]
  },
  {
   "cell_type": "code",
   "execution_count": null,
   "metadata": {},
   "outputs": [
    {
     "name": "stdout",
     "output_type": "stream",
     "text": [
      "4.333333\n"
     ]
    }
   ],
   "source": [
    "def grade_to_num(grade):\n",
    "    if grade ==\"A+\":\n",
    "        return 4.5\n",
    "    if grade ==\"A0\":\n",
    "        return 4.0\n",
    "    if grade ==\"B+\":\n",
    "        return 3.5\n",
    "    if grade ==\"B0\":\n",
    "        return 3.0\n",
    "    if grade ==\"C+\":\n",
    "        return 2.5\n",
    "    if grade ==\"C0\":\n",
    "        return 2.0\n",
    "    if grade ==\"D+\":\n",
    "        return 1.5\n",
    "    if grade ==\"D0\":\n",
    "        return 1.0\n",
    "    if grade ==\"F\":\n",
    "        return 0.0\n",
    "    else : \n",
    "        return -1\n",
    "k=0\n",
    "sum=0\n",
    "for i in range(20):\n",
    " \n",
    "    subject, score,grade = input().split()\n",
    "    score = float(score)\n",
    "    \n",
    "    if  grade_to_num(grade) >=0:\n",
    "        sum+=score\n",
    "        k+=grade_to_num(grade)*score\n",
    "    else : \n",
    "        continue    \n",
    "k=k/sum\n",
    "print(\"{:.6f}\".format(k))\n"
   ]
  },
  {
   "cell_type": "markdown",
   "metadata": {},
   "source": [
    "문제3\n",
    "N*M크기의 두 행렬 A와 B가 주어졌을 때, 두 행렬을 더하는 프로그램을 작성하시오.\n",
    "\n",
    "입력\n",
    "첫째 줄에 행렬의 크기 N 과 M이 주어진다. 둘째 줄부터 N개의 줄에 행렬 A의 원소 M개가 차례대로 주어진다. 이어서 N개의 줄에 행렬 B의 원소 M개가 차례대로 주어진다. N과 M은 100보다 작거나 같고, 행렬의 원소는 절댓값이 100보다 작거나 같은 정수이다.\n",
    "\n",
    "출력\n",
    "첫째 줄부터 N개의 줄에 행렬 A와 B를 더한 행렬을 출력한다. 행렬의 각 원소는 공백으로 구분한다."
   ]
  },
  {
   "cell_type": "code",
   "execution_count": null,
   "metadata": {},
   "outputs": [
    {
     "name": "stdout",
     "output_type": "stream",
     "text": [
      "[[1, 1, 1], [2, 2, 2], [3, 3, 3]] [[4, 4, 4], [5, 5, 5], [6, 6, 6]]\n",
      "5 5 5\n",
      "7 7 7\n",
      "9 9 9\n"
     ]
    }
   ],
   "source": [
    "N,M = map(int,input().split())\n",
    "A_list=[]\n",
    "B_list =[]\n",
    "for i in range(N):\n",
    "    n = list(map(int,input().split()))\n",
    "    A_list.append(n)\n",
    "\n",
    "for i in range(N):\n",
    "    n = list(map(int,input().split()))\n",
    "    B_list.append(n)\n",
    "\n",
    "\n",
    "for i in range(N):\n",
    "    k=[]\n",
    "    for j in range(M):\n",
    "        \n",
    "        k.append(A_list[i][j]+B_list[i][j])\n",
    "    print(*k)\n",
    "'''\n",
    "GPT\n",
    "N,M = map(int,input().split())\n",
    "\n",
    "A_list=[list(map(int,input().split())) for _ in range(N)]\n",
    "B_list=[list(map(int,input().split())) for _ in range(N)]    \n",
    "\n",
    "\n",
    "\n",
    "for i in range(N):\n",
    "    print(*[A_list[i][j]+B_list[i][j] for j in range(M)])\n",
    "\n",
    "\n",
    "    \n",
    "\n",
    "    \n",
    "'''\n"
   ]
  },
  {
   "cell_type": "markdown",
   "metadata": {},
   "source": [
    "문제4\n",
    "<그림 1>과 같이 9×9 격자판에 쓰여진 81개의 자연수 또는 0이 주어질 때, 이들 중 최댓값을 찾고 그 최댓값이 몇 행 몇 열에 위치한 수인지 구하는 프로그램을 작성하시오.\n",
    "\n",
    "예를 들어, 다음과 같이 81개의 수가 주어지면\n",
    "\n",
    " \t1열\t2열\t3열\t4열\t5열\t6열\t7열\t8열\t9열\n",
    "1행\t3\t23\t85\t34\t17\t74\t25\t52\t65\n",
    "2행\t10\t7\t39\t42\t88\t52\t14\t72\t63\n",
    "3행\t87\t42\t18\t78\t53\t45\t18\t84\t53\n",
    "4행\t34\t28\t64\t85\t12\t16\t75\t36\t55\n",
    "5행\t21\t77\t45\t35\t28\t75\t90\t76\t1\n",
    "6행\t25\t87\t65\t15\t28\t11\t37\t28\t74\n",
    "7행\t65\t27\t75\t41\t7\t89\t78\t64\t39\n",
    "8행\t47\t47\t70\t45\t23\t65\t3\t41\t44\n",
    "9행\t87\t13\t82\t38\t31\t12\t29\t29\t80\n",
    "이들 중 최댓값은 90이고, 이 값은 5행 7열에 위치한다.\n",
    "\n",
    "입력\n",
    "첫째 줄부터 아홉 번째 줄까지 한 줄에 아홉 개씩 수가 주어진다. 주어지는 수는 100보다 작은 자연수 또는 0이다.\n",
    "\n",
    "출력\n",
    "첫째 줄에 최댓값을 출력하고, 둘째 줄에 최댓값이 위치한 행 번호와 열 번호를 빈칸을 사이에 두고 차례로 출력한다. 최댓값이 두 개 이상인 경우 그 중 한 곳의 위치를 출력한다."
   ]
  },
  {
   "cell_type": "code",
   "execution_count": null,
   "metadata": {},
   "outputs": [],
   "source": [
    "\n",
    "\n",
    "n = [list(map(int,input().split())) for _ in range(9)]\n",
    "\n",
    "m=[]\n",
    "for i in range(9):\n",
    "        m.append(max(n[i]))\n",
    "l = max(m)        \n",
    "print(l)\n",
    "i=0\n",
    "while True:\n",
    "        if l in n[i]:\n",
    "                print(i+1,n[i].index(l)+1)\n",
    "                break\n",
    "        else : \n",
    "                i+=1\n",
    "\n",
    "        \n",
    "'''GPT\n",
    "n = [list(map(int, input().split())) for _ in range(9)]\n",
    "\n",
    "l = max(map(max, n))\n",
    "print(l)\n",
    "\n",
    "for i, row in enumerate(n):\n",
    "    if l in row:\n",
    "        print(i + 1, row.index(l) + 1)\n",
    "        break\n",
    "\n",
    "'''\n",
    "\n",
    "    "
   ]
  },
  {
   "cell_type": "markdown",
   "metadata": {},
   "source": [
    "\n",
    "문제5\n",
    "아직 글을 모르는 영석이가 벽에 걸린 칠판에 자석이 붙어있는 글자들을 붙이는 장난감을 가지고 놀고 있다. \n",
    "\n",
    "이 장난감에 있는 글자들은 영어 대문자 ‘A’부터 ‘Z’, 영어 소문자 ‘a’부터 ‘z’, 숫자 ‘0’부터 ‘9’이다. 영석이는 칠판에 글자들을 수평으로 일렬로 붙여서 단어를 만든다. 다시 그 아래쪽에 글자들을 붙여서 또 다른 단어를 만든다. 이런 식으로 다섯 개의 단어를 만든다. 아래 그림 1은 영석이가 칠판에 붙여 만든 단어들의 예이다. \n",
    "\n",
    "A A B C D D\n",
    "a f z z \n",
    "0 9 1 2 1\n",
    "a 8 E W g 6\n",
    "P 5 h 3 k x\n",
    "<그림 1>\n",
    "\n",
    "한 줄의 단어는 글자들을 빈칸 없이 연속으로 나열해서 최대 15개의 글자들로 이루어진다. 또한 만들어진 다섯 개의 단어들의 글자 개수는 서로 다를 수 있다. \n",
    "\n",
    "심심해진 영석이는 칠판에 만들어진 다섯 개의 단어를 세로로 읽으려 한다. 세로로 읽을 때, 각 단어의 첫 번째 글자들을 위에서 아래로 세로로 읽는다. 다음에 두 번째 글자들을 세로로 읽는다. 이런 식으로 왼쪽에서 오른쪽으로 한 자리씩 이동 하면서 동일한 자리의 글자들을 세로로 읽어 나간다. 위의 그림 1의 다섯 번째 자리를 보면 두 번째 줄의 다섯 번째 자리의 글자는 없다. 이런 경우처럼 세로로 읽을 때 해당 자리의 글자가 없으면, 읽지 않고 그 다음 글자를 계속 읽는다. 그림 1의 다섯 번째 자리를 세로로 읽으면 D1gk로 읽는다. \n",
    "\n",
    "그림 1에서 영석이가 세로로 읽은 순서대로 글자들을 공백 없이 출력하면 다음과 같다:\n",
    "\n",
    "Aa0aPAf985Bz1EhCz2W3D1gkD6x\n",
    "\n",
    "칠판에 붙여진 단어들이 주어질 때, 영석이가 세로로 읽은 순서대로 글자들을 출력하는 프로그램을 작성하시오.\n",
    "\n",
    "입력\n",
    "\n",
    "총 다섯줄의 입력이 주어진다. 각 줄에는 최소 1개, 최대 15개의 글자들이 빈칸 없이 연속으로 주어진다. 주어지는 글자는 영어 대문자 ‘A’부터 ‘Z’, 영어 소문자 ‘a’부터 ‘z’, 숫자 ‘0’부터 ‘9’ 중 하나이다. 각 줄의 시작과 마지막에 빈칸은 없다.\n",
    "\n",
    "출력\n",
    "\n",
    "영석이가 세로로 읽은 순서대로 글자들을 출력한다. 이때, 글자들을 공백 없이 연속해서 출력한다. "
   ]
  },
  {
   "cell_type": "code",
   "execution_count": null,
   "metadata": {},
   "outputs": [
    {
     "name": "stdout",
     "output_type": "stream",
     "text": [
      "[[], [], []]\n",
      "0\n",
      "\n"
     ]
    }
   ],
   "source": [
    "l=[]\n",
    "total=0\n",
    "for i in range(5):\n",
    "    x = input()\n",
    "    total+=len(x)\n",
    "    l.append([x[i] for i in range(len(x))])\n",
    "\n",
    "m=[]\n",
    "j=0\n",
    "while len(m)<total:\n",
    "    i=0\n",
    "    \n",
    "    for k in range(5):\n",
    "        if len(l[i])<=j:\n",
    "            i+=1\n",
    "            \n",
    "            continue\n",
    "        else :\n",
    "            m.append(l[i][j])\n",
    "            i+=1\n",
    "            \n",
    "    j+=1 \n",
    "\n",
    "\n",
    "ml=\"\"\n",
    "for i in range(total):\n",
    "    ml+=m[i]\n",
    "print(ml)    \n"
   ]
  },
  {
   "cell_type": "markdown",
   "metadata": {},
   "source": [
    "문제6\n",
    "\n",
    "가로, 세로의 크기가 각각 100인 정사각형 모양의 흰색 도화지가 있다. 이 도화지 위에 가로, 세로의 크기가 각각 10인 정사각형 모양의 검은색 색종이를 색종이의 변과 도화지의 변이 평행하도록 붙인다. 이러한 방식으로 색종이를 한 장 또는 여러 장 붙인 후 색종이가 붙은 검은 영역의 넓이를 구하는 프로그램을 작성하시오.\n",
    "\n",
    "\n",
    "\n",
    "예를 들어 흰색 도화지 위에 세 장의 검은색 색종이를 그림과 같은 모양으로 붙였다면 검은색 영역의 넓이는 260이 된다.\n",
    "\n",
    "입력\n",
    "첫째 줄에 색종이의 수가 주어진다. 이어 둘째 줄부터 한 줄에 하나씩 색종이를 붙인 위치가 주어진다. 색종이를 붙인 위치는 두 개의 자연수로 주어지는데 첫 번째 자연수는 색종이의 왼쪽 변과 도화지의 왼쪽 변 사이의 거리이고, 두 번째 자연수는 색종이의 아래쪽 변과 도화지의 아래쪽 변 사이의 거리이다. 색종이의 수는 100 이하이며, 색종이가 도화지 밖으로 나가는 경우는 없다\n",
    "\n",
    "출력\n",
    "첫째 줄에 색종이가 붙은 검은 영역의 넓이를 출력한다."
   ]
  },
  {
   "cell_type": "code",
   "execution_count": 32,
   "metadata": {},
   "outputs": [
    {
     "name": "stdout",
     "output_type": "stream",
     "text": [
      "260\n"
     ]
    }
   ],
   "source": [
    "def coloring(paper,x,y):\n",
    "    for i in range(10):\n",
    "        for j in range(10):\n",
    "            paper[x+i][y+j]=1\n",
    "\n",
    "    return paper\n",
    "n = int(input())\n",
    "res = 0\n",
    "paper = [[0] * 100 for _ in range(100)]\n",
    "for _ in range(n):\n",
    "    x, y = map(int, input().split())\n",
    "    coloring(paper, x, y)\n",
    "total=0\n",
    "for i in range(100):\n",
    "    total+=sum(paper[i])\n",
    "print(total)    \n"
   ]
  },
  {
   "cell_type": "markdown",
   "metadata": {},
   "source": [
    "문제7\n",
    "B진법 수 N이 주어진다. 이 수를 10진법으로 바꿔 출력하는 프로그램을 작성하시오.\n",
    "\n",
    "10진법을 넘어가는 진법은 숫자로 표시할 수 없는 자리가 있다. 이런 경우에는 다음과 같이 알파벳 대문자를 사용한다.\n",
    "\n",
    "A: 10, B: 11, ..., F: 15, ..., Y: 34, Z: 35\n",
    "\n",
    "입력\n",
    "첫째 줄에 N과 B가 주어진다. (2 ≤ B ≤ 36)\n",
    "\n",
    "B진법 수 N을 10진법으로 바꾸면, 항상 10억보다 작거나 같다.\n",
    "\n",
    "출력\n",
    "첫째 줄에 B진법 수 N을 10진법으로 출력한다."
   ]
  },
  {
   "cell_type": "code",
   "execution_count": 33,
   "metadata": {},
   "outputs": [
    {
     "name": "stdout",
     "output_type": "stream",
     "text": [
      "60466175\n"
     ]
    }
   ],
   "source": [
    "N,B= input().split()\n",
    "B=int(B)\n",
    "total=0\n",
    "for i in range(len(N)):\n",
    "    if ord(N[i])<60 : \n",
    "            \n",
    "        total+=int(N[i])*(B**(len(N)-1-i))\n",
    "    else :\n",
    "        total+=(ord(N[i])-55)*(B**(len(N)-1-i))\n",
    "\n",
    "print(total) "
   ]
  },
  {
   "cell_type": "markdown",
   "metadata": {},
   "source": [
    "문제8\n",
    "10진법 수 N이 주어진다. 이 수를 B진법으로 바꿔 출력하는 프로그램을 작성하시오.\n",
    "\n",
    "10진법을 넘어가는 진법은 숫자로 표시할 수 없는 자리가 있다. 이런 경우에는 다음과 같이 알파벳 대문자를 사용한다.\n",
    "\n",
    "A: 10, B: 11, ..., F: 15, ..., Y: 34, Z: 35\n",
    "\n",
    "입력\n",
    "첫째 줄에 N과 B가 주어진다. (2 ≤ B ≤ 36) N은 10억보다 작거나 같은 자연수이다.\n",
    "\n",
    "출력\n",
    "첫째 줄에 10진법 수 N을 B진법으로 출력한다."
   ]
  },
  {
   "cell_type": "code",
   "execution_count": 80,
   "metadata": {},
   "outputs": [
    {
     "name": "stdout",
     "output_type": "stream",
     "text": [
      "0\n"
     ]
    }
   ],
   "source": [
    "\n",
    "#print(60466175//36**4)# + 35*36**3 + 35*36**2 + 35*36**1 +35 )\n",
    "\n",
    "#print(35*36**4)\n",
    "n=True\n",
    "N,B = map(int,input().split())\n",
    "b=[]\n",
    "if N==0:\n",
    "    n=False\n",
    "    g=\"0\"\n",
    "while True:\n",
    "    i=0\n",
    "    \n",
    "    while True:\n",
    "\n",
    "        if N//B**i !=0 : \n",
    "            i+=1\n",
    "        else :\n",
    "            if N//B**(i-1)<10 :  \n",
    "                b.append(str(N//B**(i-1)))\n",
    "            else : \n",
    "                b.append(chr(N//B**(i-1)+55))\n",
    "            N-=(N//B**(i-1)) * B**(i-1)\n",
    "            break\n",
    "    if N==0:\n",
    "        break\n",
    "\n",
    "if n :\n",
    "    g=\"\"\n",
    "    for i in range(len(b)):    \n",
    "        g+=b[i]\n",
    "print(g)\n",
    "\n",
    "'''GPT\n",
    "N, B = map(int, input().split())\n",
    "\n",
    "if N == 0:\n",
    "    print(0)\n",
    "else:\n",
    "    b = []\n",
    "    while N > 0:\n",
    "        remainder = N % B\n",
    "        if remainder < 10:\n",
    "            b.append(str(remainder))\n",
    "        else:\n",
    "            b.append(chr(remainder + 55))  # 10 -> 'A', 11 -> 'B', ...\n",
    "        N //= B  # N을 B로 나눈 몫으로 갱신\n",
    "\n",
    "    print(\"\".join(b[::-1]))  # 리스트를 뒤집어서 출력\n",
    "'''\n"
   ]
  },
  {
   "cell_type": "markdown",
   "metadata": {},
   "source": [
    "###문제9\n",
    "미국으로 유학간 동혁이는 세탁소를 운영하고 있다. 동혁이는 최근에 아르바이트로 고등학생 리암을 채용했다.\n",
    "\n",
    "동혁이는 리암에게 실망했다.\n",
    "\n",
    "리암은 거스름돈을 주는 것을 자꾸 실수한다.\n",
    "\n",
    "심지어 $0.5달러를 줘야하는 경우에 거스름돈으로 $5달러를 주는것이다!\n",
    "\n",
    "어쩔수 없이 뛰어난 코딩 실력을 발휘해 리암을 도와주는 프로그램을 작성하려고 하지만, 디아블로를 하느라 코딩할 시간이 없어서 이 문제를 읽고 있는 여러분이 대신 해주어야 한다.\n",
    "\n",
    "거스름돈의 액수가 주어지면 리암이 줘야할 쿼터(Quarter, $0.25)의 개수, 다임(Dime, $0.10)의 개수, 니켈(Nickel, $0.05)의 개수, 페니(Penny, $0.01)의 개수를 구하는 프로그램을 작성하시오. 거스름돈은 항상 $5.00 이하이고, 손님이 받는 동전의 개수를 최소로 하려고 한다. 예를 들어, $1.24를 거슬러 주어야 한다면, 손님은 4쿼터, 2다임, 0니켈, 4페니를 받게 된다.\n",
    "\n",
    "입력\n",
    "첫째 줄에 테스트 케이스의 개수 T가 주어진다. 각 테스트 케이스는 거스름돈 C를 나타내는 정수 하나로 이루어져 있다. C의 단위는 센트이다. (1달러 = 100센트) (1<=C<=500)\n",
    "\n",
    "출력\n",
    "각 테스트케이스에 대해 필요한 쿼터의 개수, 다임의 개수, 니켈의 개수, 페니의 개수를 공백으로 구분하여 출력한다."
   ]
  },
  {
   "cell_type": "code",
   "execution_count": 3,
   "metadata": {},
   "outputs": [
    {
     "name": "stdout",
     "output_type": "stream",
     "text": [
      "4 2 0 4\n",
      "1 0 0 0\n",
      "7 1 1 4\n"
     ]
    }
   ],
   "source": [
    "N = int(input())\n",
    "\n",
    "for _ in range(N):\n",
    "    money = int(input())\n",
    "    x = money//25\n",
    "    y = (money%25)//10\n",
    "    z = ((money%25)%10)//5\n",
    "    w = ((money%25)%10)%5\n",
    "    print(x,y,z,w)    "
   ]
  },
  {
   "cell_type": "markdown",
   "metadata": {},
   "source": [
    "문제10\n",
    "상근이는 친구들과 함께 SF영화를 찍으려고 한다. 이 영화는 외계 지형이 필요하다. 실제로 우주선을 타고 외계 행성에 가서 촬영을 할 수 없기 때문에, 컴퓨터 그래픽으로 CG처리를 하려고 한다.\n",
    "\n",
    "외계 지형은 중앙 이동 알고리즘을 이용해서 만들려고 한다.\n",
    "\n",
    "알고리즘을 시작하면서 상근이는 정사각형을 이루는 점 4개를 고른다. 그 후에는 다음과 같은 과정을 거쳐서 지형을 만든다.\n",
    "\n",
    "정사각형의 각 변의 중앙에 점을 하나 추가한다.\n",
    "정사각형의 중심에 점을 하나 추가한다.\n",
    "초기 상태에서 위와 같은 과정을 한 번 거치면 총 4개의 정사각형이 새로 생긴다. 이와 같은 과정을 상근이가 만족할 때 까지 계속한다.\n",
    "\n",
    "아래 그림은 과정을 총 2번 거쳤을 때까지의 모습이다.\n",
    "\n",
    "\t\t\n",
    "초기 상태 - 점 4개\t1번 - 점 9개\t2번 - 25개\n",
    "상근이는 어떤 점은 한 개 보다 많은 정사각형에 포함될 수 있다는 사실을 알았다. 메모리 소모량을 줄이기 위해서 중복하는 점을 한 번만 저장하려고 한다. 과정을 N번 거친 후 점 몇 개를 저장해야 하는지 구하는 프로그램을 작성하시오.\n",
    "\n",
    "입력\n",
    "첫째 줄에 N이 주어진다. (1 ≤ N ≤ 15)\n",
    "\n",
    "출력\n",
    "첫째 줄에 과정을 N번 거친 후 점의 수를 출력한다."
   ]
  },
  {
   "cell_type": "code",
   "execution_count": 6,
   "metadata": {},
   "outputs": [
    {
     "name": "stdout",
     "output_type": "stream",
     "text": [
      "1089\n"
     ]
    }
   ],
   "source": [
    "N = int(input())\n",
    "x = 3\n",
    "an=0\n",
    "for i in range(N):\n",
    "    an = x**2\n",
    "    x = x *2 -1\n",
    "print(an)    "
   ]
  },
  {
   "cell_type": "markdown",
   "metadata": {},
   "source": [
    "문제11\n",
    "\n",
    "위의 그림과 같이 육각형으로 이루어진 벌집이 있다. 그림에서 보는 바와 같이 중앙의 방 1부터 시작해서 이웃하는 방에 돌아가면서 1씩 증가하는 번호를 주소로 매길 수 있다. 숫자 N이 주어졌을 때, 벌집의 중앙 1에서 N번 방까지 최소 개수의 방을 지나서 갈 때 몇 개의 방을 지나가는지(시작과 끝을 포함하여)를 계산하는 프로그램을 작성하시오. 예를 들면, 13까지는 3개, 58까지는 5개를 지난다.\n",
    "\n",
    "입력\n",
    "첫째 줄에 N(1 ≤ N ≤ 1,000,000,000)이 주어진다.\n",
    "\n",
    "출력\n",
    "입력으로 주어진 방까지 최소 개수의 방을 지나서 갈 때 몇 개의 방을 지나는지 출력한다."
   ]
  },
  {
   "cell_type": "code",
   "execution_count": 19,
   "metadata": {},
   "outputs": [
    {
     "name": "stdout",
     "output_type": "stream",
     "text": [
      "5\n"
     ]
    }
   ],
   "source": [
    "N = int(input())\n",
    "\n",
    "i=1\n",
    "a=1\n",
    "co=True\n",
    "if N==1:\n",
    "    print(1)\n",
    "    co=False\n",
    "while co:\n",
    "    b = a+1\n",
    "    a+=6*i \n",
    "    if b <= N <=a:\n",
    "        print(i+1)\n",
    "        break\n",
    "    i+=1"
   ]
  },
  {
   "cell_type": "markdown",
   "metadata": {},
   "source": [
    "문제12\n",
    "\n",
    "무한히 큰 배열에 다음과 같이 분수들이 적혀있다.\n",
    "\n",
    "1/1\t1/2\t1/3\t1/4\t1/5\t…\n",
    "2/1\t2/2\t2/3\t2/4\t…\t…\n",
    "3/1\t3/2\t3/3\t…\t…\t…\n",
    "4/1\t4/2\t…\t…\t…\t…\n",
    "5/1\t…\t…\t…\t…\t…\n",
    "…\t…\t…\t…\t…\t…\n",
    "이와 같이 나열된 분수들을 1/1 → 1/2 → 2/1 → 3/1 → 2/2 → … 과 같은 지그재그 순서로 차례대로 1번, 2번, 3번, 4번, 5번, … 분수라고 하자.\n",
    "\n",
    "X가 주어졌을 때, X번째 분수를 구하는 프로그램을 작성하시오.\n",
    "\n",
    "입력\n",
    "첫째 줄에 X(1 ≤ X ≤ 10,000,000)가 주어진다.\n",
    "\n",
    "출력\n",
    "첫째 줄에 분수를 출력한다."
   ]
  },
  {
   "cell_type": "code",
   "execution_count": 76,
   "metadata": {},
   "outputs": [
    {
     "name": "stdout",
     "output_type": "stream",
     "text": [
      "5/1\n"
     ]
    }
   ],
   "source": [
    "i=0\n",
    "j=1\n",
    "N=int(input())\n",
    "while True:\n",
    "    if j<=N<=j+i:\n",
    "        print(f\"{N-j+1}/{i+1-N+j}\")\n",
    "        \n",
    "        break\n",
    "    i+=1\n",
    "    j+=i\n",
    "    \n"
   ]
  },
  {
   "cell_type": "markdown",
   "metadata": {},
   "source": [
    "문제13\n",
    "땅 위에 달팽이가 있다. 이 달팽이는 높이가 V미터인 나무 막대를 올라갈 것이다.\n",
    "\n",
    "달팽이는 낮에 A미터 올라갈 수 있다. 하지만, 밤에 잠을 자는 동안 B미터 미끄러진다. 또, 정상에 올라간 후에는 미끄러지지 않는다.\n",
    "\n",
    "달팽이가 나무 막대를 모두 올라가려면, 며칠이 걸리는지 구하는 프로그램을 작성하시오.\n",
    "\n",
    "입력\n",
    "첫째 줄에 세 정수 A, B, V가 공백으로 구분되어서 주어진다. (1 ≤ B < A ≤ V ≤ 1,000,000,000)\n",
    "\n",
    "출력\n",
    "첫째 줄에 달팽이가 나무 막대를 모두 올라가는데 며칠이 걸리는지 출력한다."
   ]
  },
  {
   "cell_type": "code",
   "execution_count": 21,
   "metadata": {},
   "outputs": [
    {
     "name": "stdout",
     "output_type": "stream",
     "text": [
      "4\n"
     ]
    }
   ],
   "source": [
    "import math\n",
    "A,B,V = map(int,input().split())\n",
    "print(math.ceil((V-A)/(A-B))+1)"
   ]
  },
  {
   "cell_type": "markdown",
   "metadata": {},
   "source": [
    "문제14\n",
    "4 × 3 = 12이다.\n",
    "\n",
    "이 식을 통해 다음과 같은 사실을 알 수 있다.\n",
    "\n",
    "3은 12의 약수이고, 12는 3의 배수이다.\n",
    "\n",
    "4도 12의 약수이고, 12는 4의 배수이다.\n",
    "\n",
    "두 수가 주어졌을 때, 다음 3가지 중 어떤 관계인지 구하는 프로그램을 작성하시오.\n",
    "\n",
    "첫 번째 숫자가 두 번째 숫자의 약수이다.\n",
    "첫 번째 숫자가 두 번째 숫자의 배수이다.\n",
    "첫 번째 숫자가 두 번째 숫자의 약수와 배수 모두 아니다.\n",
    "입력\n",
    "입력은 여러 테스트 케이스로 이루어져 있다. 각 테스트 케이스는 10,000이 넘지않는 두 자연수로 이루어져 있다. 마지막 줄에는 0이 2개 주어진다. 두 수가 같은 경우는 없다.\n",
    "\n",
    "출력\n",
    "각 테스트 케이스마다 첫 번째 숫자가 두 번째 숫자의 약수라면 factor를, 배수라면 multiple을, 둘 다 아니라면 neither를 출력한다."
   ]
  },
  {
   "cell_type": "code",
   "execution_count": 6,
   "metadata": {},
   "outputs": [
    {
     "name": "stdout",
     "output_type": "stream",
     "text": [
      "multiple\n",
      "factor\n",
      "neither\n"
     ]
    }
   ],
   "source": [
    "while True : \n",
    "    a,b = map(int,input().split())\n",
    "    if a==0 and b==0 :\n",
    "        break\n",
    "    if max(a,b) % min(a,b) ==0:\n",
    "        if max(a,b)==a:\n",
    "            print(\"multiple\")\n",
    "        else:\n",
    "            print(\"factor\")    \n",
    "    else : \n",
    "        print(\"neither\")        \n"
   ]
  },
  {
   "cell_type": "markdown",
   "metadata": {},
   "source": [
    "문제15\n",
    "어떤 자연수 p와 q가 있을 때, 만일 p를 q로 나누었을 때 나머지가 0이면 q는 p의 약수이다. \n",
    "\n",
    "6을 예로 들면\n",
    "\n",
    "6 ÷ 1 = 6 … 0\n",
    "6 ÷ 2 = 3 … 0\n",
    "6 ÷ 3 = 2 … 0\n",
    "6 ÷ 4 = 1 … 2\n",
    "6 ÷ 5 = 1 … 1\n",
    "6 ÷ 6 = 1 … 0\n",
    "그래서 6의 약수는 1, 2, 3, 6, 총 네 개이다.\n",
    "\n",
    "두 개의 자연수 N과 K가 주어졌을 때, N의 약수들 중 K번째로 작은 수를 출력하는 프로그램을 작성하시오.\n",
    "\n",
    "입력\n",
    "첫째 줄에 N과 K가 빈칸을 사이에 두고 주어진다. N은 1 이상 10,000 이하이다. K는 1 이상 N 이하이다.\n",
    "\n",
    "출력\n",
    "첫째 줄에 N의 약수들 중 K번째로 작은 수를 출력한다. 만일 N의 약수의 개수가 K개보다 적어서 K번째 약수가 존재하지 않을 경우에는 0을 출력하시오."
   ]
  },
  {
   "cell_type": "code",
   "execution_count": null,
   "metadata": {},
   "outputs": [
    {
     "name": "stdout",
     "output_type": "stream",
     "text": [
      "[1, 5, 25]\n",
      "0\n"
     ]
    }
   ],
   "source": [
    "a,b = map(int,input().split())\n",
    "k=[]\n",
    "i=1\n",
    "while True :\n",
    "    if a==i :\n",
    "        k.append(i) \n",
    "        break\n",
    "    namugi = a%i \n",
    "    if namugi == 0 : \n",
    "        k.append(i)\n",
    "    \n",
    "    i+=1\n",
    "    \n",
    "\n",
    "if len(k)>b-1:    \n",
    "    print(k[b-1])    \n",
    "else : \n",
    "    print(0)    \n",
    "\n",
    "\n"
   ]
  },
  {
   "cell_type": "markdown",
   "metadata": {},
   "source": [
    "문제16\n",
    "어떤 숫자 n이 자신을 제외한 모든 약수들의 합과 같으면, 그 수를 완전수라고 한다.\n",
    "\n",
    "예를 들어 6은 6 = 1 + 2 + 3 으로 완전수이다.\n",
    "\n",
    "n이 완전수인지 아닌지 판단해주는 프로그램을 작성하라.\n",
    "\n",
    "입력\n",
    "입력은 테스트 케이스마다 한 줄 간격으로 n이 주어진다. (2 < n < 100,000)\n",
    "\n",
    "입력의 마지막엔 -1이 주어진다.\n",
    "\n",
    "출력\n",
    "테스트케이스 마다 한줄에 하나씩 출력해야 한다.\n",
    "\n",
    "n이 완전수라면, n을 n이 아닌 약수들의 합으로 나타내어 출력한다(예제 출력 참고).\n",
    "\n",
    "이때, 약수들은 오름차순으로 나열해야 한다.\n",
    "\n",
    "n이 완전수가 아니라면 n is NOT perfect. 를 출력한다."
   ]
  },
  {
   "cell_type": "code",
   "execution_count": 2,
   "metadata": {},
   "outputs": [
    {
     "name": "stdout",
     "output_type": "stream",
     "text": [
      "24 is NOT perfect.\n",
      "12 is NOT perfect.\n"
     ]
    }
   ],
   "source": [
    "while True : \n",
    "    a=int(input())\n",
    "    if a==-1:\n",
    "        break\n",
    "    k=\"1\"\n",
    "    m=[]\n",
    "    i=2\n",
    "    while True :\n",
    "        if a==i :\n",
    "            break\n",
    "        namugi = a%i \n",
    "        if namugi == 0 : \n",
    "            k +=\" + \"+str(i)\n",
    "            m.append(i)\n",
    "        i+=1\n",
    "\n",
    "    if sum(m) == a-1:\n",
    "    \n",
    "        print(f\"{a} = {k}\")\n",
    "    else : \n",
    "        print(f\"{a} is NOT perfect.\")    \n"
   ]
  },
  {
   "cell_type": "markdown",
   "metadata": {},
   "source": [
    "문제17\n",
    "주어진 수 N개 중에서 소수가 몇 개인지 찾아서 출력하는 프로그램을 작성하시오.\n",
    "\n",
    "입력\n",
    "첫 줄에 수의 개수 N이 주어진다. N은 100이하이다. 다음으로 N개의 수가 주어지는데 수는 1,000 이하의 자연수이다.\n",
    "\n",
    "출력\n",
    "주어진 수들 중 소수의 개수를 출력한다."
   ]
  },
  {
   "cell_type": "code",
   "execution_count": 29,
   "metadata": {},
   "outputs": [
    {
     "name": "stdout",
     "output_type": "stream",
     "text": [
      "2\n"
     ]
    }
   ],
   "source": [
    "X=int(input())\n",
    "\n",
    "lis = list(map(int,input().split()))\n",
    "m=0\n",
    "for a in lis:\n",
    "    if a==1 :\n",
    "        m+=1\n",
    "        #print(a)\n",
    "        continue\n",
    "    if a==2:\n",
    "        continue\n",
    "    k=[]\n",
    "    i=2\n",
    "    while True:     \n",
    "        namugi = a%i\n",
    "        if i==a-1:\n",
    "            break\n",
    "        elif namugi == 0 :\n",
    "            m+=1 #소수가 아님\n",
    "         #   print(a)\n",
    "            break\n",
    "\n",
    "\n",
    "        \n",
    "        i+=1    \n",
    "        \n",
    "        \n",
    "        \n",
    "print(X-m)\n",
    "\n",
    "\n"
   ]
  },
  {
   "cell_type": "markdown",
   "metadata": {},
   "source": [
    "문제18\n",
    "자연수 M과 N이 주어질 때 M이상 N이하의 자연수 중 소수인 것을 모두 골라 이들 소수의 합과 최솟값을 찾는 프로그램을 작성하시오.\n",
    "\n",
    "예를 들어 M=60, N=100인 경우 60이상 100이하의 자연수 중 소수는 61, 67, 71, 73, 79, 83, 89, 97 총 8개가 있으므로, 이들 소수의 합은 620이고, 최솟값은 61이 된다.\n",
    "\n",
    "입력\n",
    "입력의 첫째 줄에 M이, 둘째 줄에 N이 주어진다.\n",
    "\n",
    "M과 N은 10,000이하의 자연수이며, M은 N보다 작거나 같다.\n",
    "\n",
    "출력\n",
    "M이상 N이하의 자연수 중 소수인 것을 모두 찾아 첫째 줄에 그 합을, 둘째 줄에 그 중 최솟값을 출력한다. \n",
    "\n",
    "단, M이상 N이하의 자연수 중 소수가 없을 경우는 첫째 줄에 -1을 출력한다."
   ]
  },
  {
   "cell_type": "code",
   "execution_count": 7,
   "metadata": {},
   "outputs": [
    {
     "name": "stdout",
     "output_type": "stream",
     "text": [
      "620\n",
      "61\n"
     ]
    }
   ],
   "source": [
    "import math\n",
    "\n",
    "def is_prime(n):\n",
    "    if n < 2:\n",
    "        return False\n",
    "    for i in range(2, int(math.sqrt(n)) + 1):  \n",
    "        if n % i == 0:\n",
    "            return False\n",
    "    return True\n",
    "\n",
    "number1 = int(input())\n",
    "number2 = int(input())+1\n",
    "\n",
    "k=[]\n",
    "for number in range(number1,number2):\n",
    "    num=is_prime(number)\n",
    "    if num:\n",
    "        \n",
    "        k.append(number)\n",
    "if k==[]:\n",
    "    print(-1)\n",
    "\n",
    "else:\n",
    "    print(sum(k))        \n",
    "    print(min(k))\n"
   ]
  },
  {
   "cell_type": "markdown",
   "metadata": {},
   "source": [
    "문제19\n",
    "정수 N이 주어졌을 때, 소인수분해하는 프로그램을 작성하시오.\n",
    "\n",
    "입력\n",
    "첫째 줄에 정수 N (1 ≤ N ≤ 10,000,000)이 주어진다.\n",
    "\n",
    "출력\n",
    "N의 소인수분해 결과를 한 줄에 하나씩 오름차순으로 출력한다. N이 1인 경우 아무것도 출력하지 않는다."
   ]
  },
  {
   "cell_type": "code",
   "execution_count": 12,
   "metadata": {},
   "outputs": [
    {
     "name": "stdout",
     "output_type": "stream",
     "text": [
      "2\n",
      "2\n",
      "2\n",
      "3\n",
      "3\n"
     ]
    }
   ],
   "source": [
    "def fine(N):\n",
    "    i=2\n",
    "    while N%2==0:\n",
    "        print(2)\n",
    "        N = N/2\n",
    "    \n",
    "\n",
    "\n",
    "    i = 3\n",
    "    while i<= N:\n",
    "        while N % i == 0:\n",
    "            print(i)\n",
    "            N //= i\n",
    "        i += 2  \n",
    "\n",
    "\n",
    "N = int(input())\n",
    "p=[]\n",
    "if N==3:\n",
    "    print(3)\n",
    "else : \n",
    "    fine(N)        "
   ]
  },
  {
   "cell_type": "markdown",
   "metadata": {},
   "source": [
    "문제20\n",
    "정수 A, B 가 주어진다. 세로 길이가 A cm, 가로 길이가 B cm 인 아래와 같은 직사각형의 넓이를 cm2 단위로 구하시오.\n",
    "입력\n",
    "표준 입력에 다음과 같은 형태로 입력이 주어진다.\n",
    "\n",
    "A\n",
    "B\n",
    "출력\n",
    "세로 길이가 A cm, 가로 길이가 B cm인 직사각형의 넓이를 cm2 단위로 구하고, 단위 (cm2)를 생략하여 출력한다."
   ]
  },
  {
   "cell_type": "code",
   "execution_count": 13,
   "metadata": {},
   "outputs": [
    {
     "name": "stdout",
     "output_type": "stream",
     "text": [
      "100\n"
     ]
    }
   ],
   "source": [
    "a=int(input())\n",
    "b = int(input())\n",
    "print(a*b)"
   ]
  },
  {
   "cell_type": "markdown",
   "metadata": {},
   "source": [
    "문제21\n",
    "\n",
    "한수는 지금 (x, y)에 있다. 직사각형은 각 변이 좌표축에 평행하고, 왼쪽 아래 꼭짓점은 (0, 0), 오른쪽 위 꼭짓점은 (w, h)에 있다. 직사각형의 경계선까지 가는 거리의 최솟값을 구하는 프로그램을 작성하시오.\n",
    "\n",
    "입력\n",
    "첫째 줄에 x, y, w, h가 주어진다.\n",
    "\n",
    "출력\n",
    "첫째 줄에 문제의 정답을 출력한다."
   ]
  },
  {
   "cell_type": "code",
   "execution_count": 17,
   "metadata": {},
   "outputs": [
    {
     "name": "stdout",
     "output_type": "stream",
     "text": [
      "161\n"
     ]
    }
   ],
   "source": [
    "x,y,w,h = map(int,input().split())\n",
    "print(min(min(abs(w-x),x),min(abs(y-h),y)))"
   ]
  },
  {
   "cell_type": "markdown",
   "metadata": {},
   "source": [
    "문제22\n",
    "\n",
    "세 점이 주어졌을 때, 축에 평행한 직사각형을 만들기 위해서 필요한 네 번째 점을 찾는 프로그램을 작성하시오.\n",
    "\n",
    "입력\n",
    "세 점의 좌표가 한 줄에 하나씩 주어진다. 좌표는 1보다 크거나 같고, 1000보다 작거나 같은 정수이다.\n",
    "\n",
    "출력\n",
    "직사각형의 네 번째 점의 좌표를 출력한다."
   ]
  },
  {
   "cell_type": "code",
   "execution_count": 27,
   "metadata": {},
   "outputs": [
    {
     "name": "stdout",
     "output_type": "stream",
     "text": [
      "7 7\n"
     ]
    }
   ],
   "source": [
    "x_list=[]\n",
    "y_list=[]\n",
    "\n",
    "def finding(x:list):\n",
    "    \n",
    "    for i in range(3):\n",
    "        if x.count(x[i])==1:\n",
    "            return x[i]\n",
    "\n",
    "    \n",
    "\n",
    "\n",
    "\n",
    "for i in range(3):\n",
    "    x,y = map(int,input().split())\n",
    "    x_list.append(x)\n",
    "    y_list.append(y)\n",
    "x = finding(x_list)    \n",
    "y = finding(y_list)\n",
    "print(x,y)\n",
    "\n",
    "    "
   ]
  },
  {
   "cell_type": "markdown",
   "metadata": {},
   "source": [
    "문제 23\n",
    "\n",
    "성원이는 수학을 정말 못 하는 고등학생이다. 수학을 못하는 대신 근성과 팔 힘이 뛰어난 성원이는 수학 시험에서 수학 지식을 사용하지 않고 근성과 체력을 사용해 문제를 푼다. 지난 시험에서는 아래 사진에 나와있는 문제를 근성과 체력을 사용해 열심히 풀었지만 사진에서 볼 수 있듯이 틀려버리고 말았다!\n",
    "\n",
    "결국 이 문제는 틀려버렸지만 성원이는 여전히 자신의 체력에 강한 자신감을 갖고 있다. 어떤 어려운 문제가 나와도 이런 식으로 근성과 체력을 사용하면 다 풀 수 있으니 이 방법은 최고의 방법이라고 생각하고 있다.\n",
    "\n",
    "성원이의 친구 형석이는 근성과 체력으로 수학 문제를 푸는 것은 굉장히 무식한 방법이라고 생각한다. 형석이는 수학을 공부하면 문제를 훨씬 빨리 풀 수 있다는 것을 알려주기 위해 위 사진에 나와있는 문제를 갖고 성원이와 퀴즈 내기를 하기로 했다. 위 사진의 문제를 다시 정리하면 아래와 같다.\n",
    "\n",
    "\"한 변의 길이가 1인 정사각형을 아래 그림과 같이 겹치지 않게 빈틈없이 계속 붙여 나간다. 가장 아랫부분의 정사각형이 n개가 되었을 때, 실선으로 이루어진 도형의 둘레의 길이를 구하시오.\"\n",
    "가장 아랫부분의 정사각형 개수가 주어지면 그에 해당하는 답을 출력하는 프로그램을 만들어 형석이를 도와주자!\n",
    "\n",
    "입력\n",
    "첫 번째 줄에 가장 아랫부분의 정사각형 개수 n이 주어진다. (1 ≤ n ≤ 109)\n",
    "\n",
    "출력\n",
    "첫 번째 줄에 형석이가 말해야 하는 답을 출력한다.\n",
    "\n"
   ]
  },
  {
   "cell_type": "code",
   "execution_count": 28,
   "metadata": {},
   "outputs": [
    {
     "name": "stdout",
     "output_type": "stream",
     "text": [
      "12\n"
     ]
    }
   ],
   "source": [
    "a=int(input())\n",
    "print(4*a)"
   ]
  },
  {
   "cell_type": "markdown",
   "metadata": {},
   "source": [
    "문제24\n",
    "\n",
    " 임씨는 1950 년 한국전쟁으로 많은 손해를 본 사람들 중 하나다. 전쟁 통에 손해보지 않은 사람이 어디 있을까 만은 그는 6.25 가 일어나기 전만 해도 충청도 지방에 넓은 대지를 소유한 큰 부자였다. 전쟁이 나자 임씨는 땅문서와 값 나가는 것들만 챙겨서 일본으로 피난을 가지만 피난 중에 그만 땅문서를 잃어버리고 만다. 전쟁이 끝난 후에 임씨의 땅은 이미 다른 사람들의 논밭이 되어 있었고, 임씨는 땅을 되찾으려 했지만 문서가 없으니 생떼 쓰는 것과 다를 바 없었다. 이러다가 임씨는 길바닥에 나앉게 생겼다.\n",
    "\n",
    "이때, 임씨에게 좋은 생각이 떠올랐으니 바로 자신이 습관처럼 땅 깊숙이 뭔가 표식을 해놓았던 사실이다. 임씨는 한적할 때마다 자신의 논밭을 거닐다가 땅속 깊은 곳에 자신의 이름이 씌어진 옥구슬을 묻어놓았던 것이다. 즉, 어떤 지점에서 그의 이름이 적힌 옥구슬이 나온다면 그 지점은 예전에 임씨의 땅이었다는 것을 증명하는 것이다.\n",
    "\n",
    "임씨는 즉시 민사소송을 통해 자신의 땅을 찾고자 했고 논리적인 근거를 들어 옥구슬이 나오는 지점이 원래 자신의 땅의 한 지점이었다는 것을 주장하여 결국 담당판사를 설득하는 데에 성공하였다. 담당판사는 다음과 같은 판결을 내렸다. “ 6.25 이전의 개인소유 대지들은 99%가 남북, 동서 방향으로 평행한 직사각형 모양이었으므로, 임씨의 이름이 새겨진 옥구슬이 나오는 모든 지점을 포함하는 가장 작은 남북, 동서 방향으로 평행한 변을 갖는 직사각형의 대지를 임씨의 소유로 인정한다.” 임씨는 많은 손해를 보는 셈이지만 더 이상을 요구할 만한 근거가 없었기 때문에 이 판결을 따르기로 했다.\n",
    "\n",
    "임씨의 이름이 새겨진 옥구슬의 위치 N 개가 주어질 때에, 임씨에게 돌아갈 대지의 넓이를 계산하는 프로그램을 작성하시오. 단, 옥구슬의 위치는 2 차원 정수 좌표로 주어지고 옥구슬은 같은 위치에 여러 개가 발견될 수도 있으며, x 축의 양의방향을 동쪽, y 축의 양의방향을 북쪽이라고 가정한다. \n",
    "\n",
    "예를 들어 위와 같이 (2, 1), (3, 2), (5, 2), (3, 4) 네 점에서 옥구슬을 발견하였다면, 임씨에게 돌아갈 대지는 (2, 1), (5, 1), (2, 4), (5, 4)를 네 꼭짓점으로 하는 직사각형이며, 넓이는 (5 - 2) × (4 - 1) = 9 가 된다. \n",
    "\n",
    "입력\n",
    "첫째 줄에는 점의 개수 N (1 ≤ N ≤ 100,000) 이 주어진다. 이어지는 N 줄에는 각 점의 좌표가 두 개의 정수로 한 줄에 하나씩 주어진다. 각각의 좌표는 -10,000 이상 10,000 이하의 정수이다. \n",
    "\n",
    "출력\n",
    "첫째 줄에 N 개의 점을 둘러싸는 최소 크기의 직사각형의 넓이를 출력하시오"
   ]
  },
  {
   "cell_type": "code",
   "execution_count": 32,
   "metadata": {},
   "outputs": [
    {
     "name": "stdout",
     "output_type": "stream",
     "text": [
      "9\n"
     ]
    }
   ],
   "source": [
    "a=int(input())\n",
    "x_list = []\n",
    "y_list = []\n",
    "for _ in range(a):\n",
    "    x,y = map(int,input().split())\n",
    "    x_list.append(x)\n",
    "    y_list.append(y)\n",
    "\n",
    "print((max(x_list)-min(x_list))*(max(y_list)-min(y_list)))\n",
    "\n",
    "\n",
    "\n"
   ]
  },
  {
   "cell_type": "markdown",
   "metadata": {},
   "source": [
    "문제25\n",
    "창영이는 삼각형의 종류를 잘 구분하지 못한다. 따라서 프로그램을 이용해 이를 외우려고 한다.\n",
    "\n",
    "삼각형의 세 각을 입력받은 다음,\n",
    "\n",
    "세 각의 크기가 모두 60이면, Equilateral\n",
    "세 각의 합이 180이고, 두 각이 같은 경우에는 Isosceles\n",
    "세 각의 합이 180이고, 같은 각이 없는 경우에는 Scalene\n",
    "세 각의 합이 180이 아닌 경우에는 Error\n",
    "를 출력하는 프로그램을 작성하시오.\n",
    "\n",
    "입력\n",
    "총 3개의 줄에 걸쳐 삼각형의 각의 크기가 주어진다. 모든 정수는 0보다 크고, 180보다 작다.\n",
    "\n",
    "출력\n",
    "문제의 설명에 따라 Equilateral, Isosceles, Scalene, Error 중 하나를 출력한다."
   ]
  },
  {
   "cell_type": "code",
   "execution_count": 35,
   "metadata": {},
   "outputs": [
    {
     "name": "stdout",
     "output_type": "stream",
     "text": [
      "Scalene\n"
     ]
    }
   ],
   "source": [
    "a=[]\n",
    "b=0\n",
    "for _ in range(3):\n",
    "    inp = int(input())\n",
    "    if inp in a :\n",
    "        b+=1\n",
    "    a.append(inp)\n",
    "if sum(a)!=180 : \n",
    "    print(\"Error\")    \n",
    "else : \n",
    "    if  b==2:\n",
    "        print(\"Equilateral\")                       \n",
    "    elif b==1: \n",
    "        print(\"Isosceles\")    \n",
    "    else : \n",
    "        print(\"Scalene\")    "
   ]
  },
  {
   "cell_type": "markdown",
   "metadata": {},
   "source": [
    "문제 26\n",
    "\n",
    "삼각형의 세 변의 길이가 주어질 때 변의 길이에 따라 다음과 같이 정의한다.\n",
    "\n",
    "Equilateral :  세 변의 길이가 모두 같은 경우\n",
    "Isosceles : 두 변의 길이만 같은 경우\n",
    "Scalene : 세 변의 길이가 모두 다른 경우\n",
    "단 주어진 세 변의 길이가 삼각형의 조건을 만족하지 못하는 경우에는 \"Invalid\" 를 출력한다. 예를 들어 6, 3, 2가 이 경우에 해당한다. 가장 긴 변의 길이보다 나머지 두 변의 길이의 합이 길지 않으면 삼각형의 조건을 만족하지 못한다.\n",
    "\n",
    "세 변의 길이가 주어질 때 위 정의에 따른 결과를 출력하시오.\n",
    "\n",
    "입력\n",
    "각 줄에는 1,000을 넘지 않는 양의 정수 3개가 입력된다. 마지막 줄은 0 0 0이며 이 줄은 계산하지 않는다.\n",
    "\n",
    "출력\n",
    "각 입력에 맞는 결과 (Equilateral, Isosceles, Scalene, Invalid) 를 출력하시오."
   ]
  },
  {
   "cell_type": "code",
   "execution_count": 58,
   "metadata": {},
   "outputs": [
    {
     "name": "stdout",
     "output_type": "stream",
     "text": [
      "Equilateral\n",
      "Scalene\n",
      "Invalid\n",
      "Isosceles\n"
     ]
    },
    {
     "ename": "ValueError",
     "evalue": "invalid literal for int() with base 10: '-'",
     "output_type": "error",
     "traceback": [
      "\u001b[0;31m---------------------------------------------------------------------------\u001b[0m",
      "\u001b[0;31mValueError\u001b[0m                                Traceback (most recent call last)",
      "Cell \u001b[0;32mIn[58], line 15\u001b[0m\n\u001b[1;32m     11\u001b[0m         \u001b[38;5;28mprint\u001b[39m(\u001b[38;5;124m\"\u001b[39m\u001b[38;5;124mIsosceles\u001b[39m\u001b[38;5;124m\"\u001b[39m)    \n\u001b[1;32m     14\u001b[0m \u001b[38;5;28;01mwhile\u001b[39;00m \u001b[38;5;28;01mTrue\u001b[39;00m:\n\u001b[0;32m---> 15\u001b[0m     x\u001b[38;5;241m=\u001b[39m \u001b[38;5;28;43mlist\u001b[39;49m\u001b[43m(\u001b[49m\u001b[38;5;28;43mmap\u001b[39;49m\u001b[43m(\u001b[49m\u001b[38;5;28;43mint\u001b[39;49m\u001b[43m,\u001b[49m\u001b[38;5;28;43minput\u001b[39;49m\u001b[43m(\u001b[49m\u001b[43m)\u001b[49m\u001b[38;5;241;43m.\u001b[39;49m\u001b[43msplit\u001b[49m\u001b[43m(\u001b[49m\u001b[43m)\u001b[49m\u001b[43m)\u001b[49m\u001b[43m)\u001b[49m\n\u001b[1;32m     17\u001b[0m     \u001b[38;5;28;01mif\u001b[39;00m \u001b[38;5;241m0\u001b[39m \u001b[38;5;129;01min\u001b[39;00m x:\n\u001b[1;32m     18\u001b[0m         \u001b[38;5;28;01mbreak\u001b[39;00m\n",
      "\u001b[0;31mValueError\u001b[0m: invalid literal for int() with base 10: '-'"
     ]
    }
   ],
   "source": [
    "def finding(x):\n",
    "    x.sort(reverse=True)\n",
    "    \n",
    "    if x[0] >= (x[1]+x[2]):\n",
    "        print(\"Invalid\")\n",
    "    elif x[0]==x[1]==x[2]:\n",
    "        print(\"Equilateral\")\n",
    "    elif x[0]!=x[1] and x[0]!=x[2] and x[1]!=x[2]:\n",
    "        print(\"Scalene\")    \n",
    "    else : \n",
    "        print(\"Isosceles\")    \n",
    "        \n",
    "\n",
    "while True:\n",
    "    x= list(map(int,input().split()))\n",
    "    \n",
    "    if 0 in x:\n",
    "        break\n",
    "    \n",
    "    finding(x)\n"
   ]
  },
  {
   "cell_type": "markdown",
   "metadata": {},
   "source": [
    "문제27\n",
    "\n",
    "영선이는 길이가 a, b, c인 세 막대를 가지고 있고, 각 막대의 길이를 마음대로 줄일 수 있다.\n",
    "\n",
    "영선이는 세 막대를 이용해서 아래 조건을 만족하는 삼각형을 만들려고 한다.\n",
    "\n",
    "각 막대의 길이는 양의 정수이다\n",
    "세 막대를 이용해서 넓이가 양수인 삼각형을 만들 수 있어야 한다.\n",
    "삼각형의 둘레를 최대로 해야 한다.\n",
    "a, b, c가 주어졌을 때, 만들 수 있는 가장 큰 둘레를 구하는 프로그램을 작성하시오. \n",
    "\n",
    "입력\n",
    "첫째 줄에 a, b, c (1 ≤ a, b, c ≤ 100)가 주어진다.\n",
    "\n",
    "출력\n",
    "첫째 줄에 만들 수 있는 가장 큰 삼각형의 둘레를 출력한다."
   ]
  },
  {
   "cell_type": "code",
   "execution_count": 67,
   "metadata": {},
   "outputs": [
    {
     "name": "stdout",
     "output_type": "stream",
     "text": [
      "113\n"
     ]
    }
   ],
   "source": [
    "x= list(map(int,input().split()))\n",
    "x.sort()\n",
    "z=min(x[2],x[0]+x[1]-1)\n",
    "\n",
    "print(x[0]+x[1]+z)"
   ]
  },
  {
   "cell_type": "code",
   "execution_count": 26,
   "metadata": {},
   "outputs": [
    {
     "ename": "KeyboardInterrupt",
     "evalue": "",
     "output_type": "error",
     "traceback": [
      "\u001b[0;31m---------------------------------------------------------------------------\u001b[0m",
      "\u001b[0;31mKeyboardInterrupt\u001b[0m                         Traceback (most recent call last)",
      "Cell \u001b[0;32mIn[26], line 5\u001b[0m\n\u001b[1;32m      3\u001b[0m j\u001b[38;5;241m=\u001b[39m\u001b[38;5;241m1\u001b[39m\n\u001b[1;32m      4\u001b[0m k\u001b[38;5;241m=\u001b[39m\u001b[38;5;241m1\u001b[39m\n\u001b[0;32m----> 5\u001b[0m \u001b[38;5;28;01mwhile\u001b[39;00m \u001b[38;5;28;01mTrue\u001b[39;00m:\n\u001b[1;32m      6\u001b[0m     N \u001b[38;5;241m=\u001b[39m N \u001b[38;5;241m%\u001b[39m (\u001b[38;5;241m101\u001b[39m \u001b[38;5;241m*\u001b[39m i)\n\u001b[1;32m      7\u001b[0m     \u001b[38;5;28;01mif\u001b[39;00m N \u001b[38;5;241m/\u001b[39m (\u001b[38;5;241m11\u001b[39m\u001b[38;5;241m*\u001b[39mj) \u001b[38;5;241m%\u001b[39m (\u001b[38;5;241m2\u001b[39m\u001b[38;5;241m*\u001b[39mk) \u001b[38;5;241m==\u001b[39m\u001b[38;5;241m0\u001b[39m:\n",
      "\u001b[0;31mKeyboardInterrupt\u001b[0m: "
     ]
    }
   ],
   "source": [
    "N = int(input())\n",
    "i=1\n",
    "j=1\n",
    "k=1\n",
    "while True:\n",
    "    N = N % (101 * i)\n",
    "    if N / (11*j) % (2*k) ==0:\n",
    "        print(i,j,k)\n",
    "        break\n",
    "    i+=1    \n",
    "    j+=1\n",
    "    k+=1"
   ]
  }
 ],
 "metadata": {
  "kernelspec": {
   "display_name": "odenv",
   "language": "python",
   "name": "python3"
  },
  "language_info": {
   "codemirror_mode": {
    "name": "ipython",
    "version": 3
   },
   "file_extension": ".py",
   "mimetype": "text/x-python",
   "name": "python",
   "nbconvert_exporter": "python",
   "pygments_lexer": "ipython3",
   "version": "3.12.8"
  }
 },
 "nbformat": 4,
 "nbformat_minor": 2
}
